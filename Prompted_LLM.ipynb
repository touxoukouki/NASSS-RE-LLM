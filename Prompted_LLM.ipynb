{
  "nbformat": 4,
  "nbformat_minor": 0,
  "metadata": {
    "colab": {
      "provenance": []
    },
    "kernelspec": {
      "name": "python3",
      "display_name": "Python 3"
    },
    "language_info": {
      "name": "python"
    }
  },
  "cells": [
    {
      "cell_type": "code",
      "execution_count": 1,
      "metadata": {
        "colab": {
          "base_uri": "https://localhost:8080/"
        },
        "id": "cndqi3c-NMzV",
        "outputId": "48df0941-290f-4f8d-b9b6-1ef17091999c"
      },
      "outputs": [
        {
          "output_type": "stream",
          "name": "stdout",
          "text": [
            "Requirement already satisfied: openai in /usr/local/lib/python3.11/dist-packages (1.84.0)\n",
            "Requirement already satisfied: anyio<5,>=3.5.0 in /usr/local/lib/python3.11/dist-packages (from openai) (4.9.0)\n",
            "Requirement already satisfied: distro<2,>=1.7.0 in /usr/local/lib/python3.11/dist-packages (from openai) (1.9.0)\n",
            "Requirement already satisfied: httpx<1,>=0.23.0 in /usr/local/lib/python3.11/dist-packages (from openai) (0.28.1)\n",
            "Requirement already satisfied: jiter<1,>=0.4.0 in /usr/local/lib/python3.11/dist-packages (from openai) (0.10.0)\n",
            "Requirement already satisfied: pydantic<3,>=1.9.0 in /usr/local/lib/python3.11/dist-packages (from openai) (2.11.5)\n",
            "Requirement already satisfied: sniffio in /usr/local/lib/python3.11/dist-packages (from openai) (1.3.1)\n",
            "Requirement already satisfied: tqdm>4 in /usr/local/lib/python3.11/dist-packages (from openai) (4.67.1)\n",
            "Requirement already satisfied: typing-extensions<5,>=4.11 in /usr/local/lib/python3.11/dist-packages (from openai) (4.14.0)\n",
            "Requirement already satisfied: idna>=2.8 in /usr/local/lib/python3.11/dist-packages (from anyio<5,>=3.5.0->openai) (3.10)\n",
            "Requirement already satisfied: certifi in /usr/local/lib/python3.11/dist-packages (from httpx<1,>=0.23.0->openai) (2025.4.26)\n",
            "Requirement already satisfied: httpcore==1.* in /usr/local/lib/python3.11/dist-packages (from httpx<1,>=0.23.0->openai) (1.0.9)\n",
            "Requirement already satisfied: h11>=0.16 in /usr/local/lib/python3.11/dist-packages (from httpcore==1.*->httpx<1,>=0.23.0->openai) (0.16.0)\n",
            "Requirement already satisfied: annotated-types>=0.6.0 in /usr/local/lib/python3.11/dist-packages (from pydantic<3,>=1.9.0->openai) (0.7.0)\n",
            "Requirement already satisfied: pydantic-core==2.33.2 in /usr/local/lib/python3.11/dist-packages (from pydantic<3,>=1.9.0->openai) (2.33.2)\n",
            "Requirement already satisfied: typing-inspection>=0.4.0 in /usr/local/lib/python3.11/dist-packages (from pydantic<3,>=1.9.0->openai) (0.4.1)\n"
          ]
        }
      ],
      "source": [
        "!pip install --upgrade openai\n"
      ]
    },
    {
      "cell_type": "code",
      "source": [
        "import os\n",
        "import openai\n",
        "from getpass import getpass\n",
        "\n",
        "# Enter your API key securely (won't display)\n",
        "os.environ[\"OPENAI_API_KEY\"] = getpass(\"🔑 Enter your OpenAI API key: \")\n",
        "openai.api_key = os.environ[\"OPENAI_API_KEY\"]"
      ],
      "metadata": {
        "colab": {
          "base_uri": "https://localhost:8080/"
        },
        "id": "TbOiVK0aNXlr",
        "outputId": "974c5372-fa59-49c2-bc0e-93343ffa91e8"
      },
      "execution_count": 2,
      "outputs": [
        {
          "name": "stdout",
          "output_type": "stream",
          "text": [
            "🔑 Enter your OpenAI API key: ··········\n"
          ]
        }
      ]
    },
    {
      "cell_type": "code",
      "source": [
        "response = openai.chat.completions.create(\n",
        "    model=\"gpt-4-turbo\",\n",
        "    messages=[\n",
        "        {\"role\": \"system\", \"content\": \"You are a helpful assistant.\"},\n",
        "        {\"role\": \"user\", \"content\": \"Summarize the pros and cons of aspirin.\"}\n",
        "    ],\n",
        "    temperature=0.5,\n",
        "    max_tokens=300\n",
        ")\n",
        "\n",
        "print(response.choices[0].message.content)"
      ],
      "metadata": {
        "colab": {
          "base_uri": "https://localhost:8080/"
        },
        "id": "xYd3Xb3ENeda",
        "outputId": "721cc0fb-ea05-4b3c-931b-1cee6da7f89e"
      },
      "execution_count": 3,
      "outputs": [
        {
          "output_type": "stream",
          "name": "stdout",
          "text": [
            "Aspirin, one of the oldest and most commonly used medications worldwide, has a variety of uses primarily in pain relief, anti-inflammatory treatment, and cardiovascular protection. Here's a summary of its pros and cons:\n",
            "\n",
            "**Pros of Aspirin:**\n",
            "1. **Pain Relief:** Aspirin is effective in reducing pain from various conditions such as headaches, muscle aches, and toothaches.\n",
            "2. **Anti-inflammatory:** It helps reduce inflammation, making it beneficial for treating conditions like rheumatoid arthritis.\n",
            "3. **Antipyretic Effects:** Aspirin is useful in lowering fever.\n",
            "4. **Prevention of Blood Clots:** It inhibits platelet aggregation, thereby reducing the risk of blood clots. This is particularly beneficial in preventing strokes and heart attacks in appropriate populations.\n",
            "5. **Cardiovascular Benefits:** Regular use of low-dose aspirin can prevent the recurrence of heart attacks and strokes in individuals with a history of these conditions.\n",
            "6. **Possible Cancer Prevention:** Some studies suggest that long-term use of aspirin may reduce the risk of certain types of cancer, including colorectal cancer.\n",
            "\n",
            "**Cons of Aspirin:**\n",
            "1. **Gastrointestinal Problems:** Aspirin can cause stomach upset, ulcers, and even gastrointestinal bleeding, especially when used frequently or in high doses.\n",
            "2. **Bleeding Risk:** Due to its anti-clotting properties, aspirin can increase the risk of bleeding, particularly dangerous when involving the\n"
          ]
        }
      ]
    },
    {
      "cell_type": "code",
      "source": [
        "# Scenario-specific clinical data\n",
        "scenarios = [\n",
        "    {\n",
        "        \"name\": \"The Triage Bottleneck\", \"role\": \"triage\",\n",
        "        \"age\": \"71\", \"sex\": \"Male\",\n",
        "        \"symptoms\": \"Shortness of breath, chest tightness (HR 108, SpO₂ 92 %, BP 165/95)\",\n",
        "        \"history\": \"Chronic sinusitis, essential hypertension, hyperlipidaemia\",\n",
        "        \"meds\": \"None recorded\",\n",
        "        \"context\": \"Walk-in, 20:00 Friday, Evangelismós General Hospital, Athens\"\n",
        "    },\n",
        "    {\n",
        "        \"name\": \"The Alert That Was Ignored\", \"role\": \"alert\",\n",
        "        \"age\": \"55\", \"sex\": \"Female\",\n",
        "        \"symptoms\": \"Acute bronchitis, wheezing\",\n",
        "        \"history\": \"Severe asthma, hypertension, prediabetes\",\n",
        "        \"meds\": \"Fluticasone, Albuterol, Hydrochlorothiazide\",\n",
        "        \"context\": \"Inpatient at 02:15, night shift, Ippokráteio Hospital, Thessaloníki\"\n",
        "    },\n",
        "    {\n",
        "        \"name\": \"The Rural GP and the Black Box\", \"role\": \"gp_diagnosis\",\n",
        "        \"age\": \"45\", \"sex\": \"Male\",\n",
        "        \"symptoms\": \"Vague sore throat, low-grade fever\",\n",
        "        \"history\": \"No chronic conditions recorded\",\n",
        "        \"meds\": \"None\",\n",
        "        \"context\": \"GP visit, Agiásos village clinic, island of Lésvos\"\n",
        "    },\n",
        "    {\n",
        "        \"name\": \"Second Opinion or Surveillance\", \"role\": \"second_opinion\",\n",
        "        \"age\": \"51\", \"sex\": \"Female\",\n",
        "        \"symptoms\": \"Breast carcinoma with lung metastases\",\n",
        "        \"history\": \"Chronic sinusitis, cystitis, prediabetes, prior tubal pregnancy\",\n",
        "        \"meds\": \"Mirena IUD, Chlorpheniramine, Errin\",\n",
        "        \"context\": \"Oncology MDT, Laiko University Hospital, Athens\"\n",
        "    },\n",
        "    {\n",
        "        \"name\": \"The Data Privacy Trap\", \"role\": \"risk_scorer\",\n",
        "        \"age\": \"29\", \"sex\": \"Male\",\n",
        "        \"symptoms\": \"Type-2 diabetes follow-up, possible non-adherence\",\n",
        "        \"history\": \"Major depressive disorder, nicotine dependence (inferred)\",\n",
        "        \"meds\": \"Acetaminophen, antidepressants\",\n",
        "        \"context\": \"Outpatient diabetes clinic, General Hospital of Pátras\"\n",
        "    }\n",
        "]\n",
        "\n",
        "# Role-specific system prompts\n",
        "system_prompts = {\n",
        "    \"triage\": (\n",
        "        \"You are a clinical AI decision-support assistant embedded in the emergency department \"\n",
        "        \"of a public hospital in Greece. You recommend urgency level and department based on presentation. \"\n",
        "        \"Your advice is advisory. Always communicate uncertainty.\"\n",
        "    ),\n",
        "    \"alert\": (\n",
        "        \"You are an AI medication-alert system in a hospital EHR. You detect adverse drug events, \"\n",
        "        \"trigger alerts, and escalate risk while avoiding alert fatigue.\"\n",
        "    ),\n",
        "    \"gp_diagnosis\": (\n",
        "        \"You are an AI diagnostic assistant in a rural GP’s clinic. You suggest likely diagnoses \"\n",
        "        \"and flag red-flag symptoms. Support, not replace, clinical judgment.\"\n",
        "    ),\n",
        "    \"second_opinion\": (\n",
        "        \"You are a patient-facing AI for second opinions based on medical notes and literature. \"\n",
        "        \"Your output is visible to clinicians and must be explainable and caveated.\"\n",
        "    ),\n",
        "    \"risk_scorer\": (\n",
        "        \"You are a risk-scoring AI module in a public hospital dashboard. You infer risk of complications \"\n",
        "        \"using structured and inferred data. Flag when data is privacy-sensitive or inferred.\"\n",
        "    )\n",
        "}"
      ],
      "metadata": {
        "id": "OybKqr_XNim1"
      },
      "execution_count": 4,
      "outputs": []
    },
    {
      "cell_type": "code",
      "source": [
        "# Function to build the user prompt from each scenario\n",
        "def build_user_prompt(entry):\n",
        "    return (\n",
        "        f\"Setting\\n{entry['context']}\\n\\n\"\n",
        "        \"Patient Profile\\n\"\n",
        "        f\"- Age: {entry['age']}\\n\"\n",
        "        f\"- Sex: {entry['sex']}\\n\"\n",
        "        f\"- Presenting Symptoms: {entry['symptoms']}\\n\"\n",
        "        f\"- Medical History: {entry['history']}\\n\"\n",
        "        f\"- Current Medications: {entry['meds']}\\n\"\n",
        "        f\"- Encounter Context: {entry['context']}\\n\\n\"\n",
        "        \"Task:\\n\"\n",
        "        \"1. Summarise the patient's condition and identify signs of risk.\\n\"\n",
        "        \"2. Recommend an appropriate action (triage level, alert, diagnosis, risk score, etc.).\\n\"\n",
        "        \"3. Justify your decision using the clinical data provided.\\n\"\n",
        "        \"4. Note any limitations or uncertainty in your response.\\n\"\n",
        "        \"5. Flag any data elements that require clinician verification.\"\n",
        "    )\n"
      ],
      "metadata": {
        "id": "mqPWJ9e-NuC7"
      },
      "execution_count": 5,
      "outputs": []
    },
    {
      "cell_type": "code",
      "source": [
        "import datetime\n",
        "import csv\n",
        "\n",
        "# Store results for all scenarios\n",
        "results = []\n",
        "\n",
        "# Run each scenario through GPT-4-turbo\n",
        "for entry in scenarios:\n",
        "    print(f\"⏳ Querying GPT-4-turbo for: {entry['name']}\")\n",
        "\n",
        "    response = openai.chat.completions.create(\n",
        "        model=\"gpt-4-turbo\",\n",
        "        messages=[\n",
        "            {\"role\": \"system\", \"content\": system_prompts[entry[\"role\"]]},\n",
        "            {\"role\": \"user\", \"content\": build_user_prompt(entry)}\n",
        "        ],\n",
        "        temperature=0.4,\n",
        "        max_tokens=700\n",
        "    )\n",
        "\n",
        "    # Extract result data\n",
        "    content = response.choices[0].message.content.strip()\n",
        "    timestamp = datetime.datetime.utcnow().isoformat(timespec=\"seconds\")\n",
        "    usage = response.usage\n",
        "\n",
        "    results.append({\n",
        "        \"scenario\": entry[\"name\"],\n",
        "        \"timestamp_utc\": timestamp,\n",
        "        \"prompt_tokens\": usage.prompt_tokens,\n",
        "        \"completion_tokens\": usage.completion_tokens,\n",
        "        \"total_tokens\": usage.total_tokens,\n",
        "        \"model\": \"gpt-4-turbo\",\n",
        "        \"response\": content\n",
        "    })\n",
        "\n",
        "print(\"\\n✅ All queries complete.\")\n"
      ],
      "metadata": {
        "colab": {
          "base_uri": "https://localhost:8080/"
        },
        "id": "eo2vliLINzJu",
        "outputId": "5e1c8c74-e674-40ab-bb6f-470366792d06"
      },
      "execution_count": 6,
      "outputs": [
        {
          "output_type": "stream",
          "name": "stdout",
          "text": [
            "⏳ Querying GPT-4-turbo for: The Triage Bottleneck\n",
            "⏳ Querying GPT-4-turbo for: The Alert That Was Ignored\n",
            "⏳ Querying GPT-4-turbo for: The Rural GP and the Black Box\n",
            "⏳ Querying GPT-4-turbo for: Second Opinion or Surveillance\n",
            "⏳ Querying GPT-4-turbo for: The Data Privacy Trap\n",
            "\n",
            "✅ All queries complete.\n"
          ]
        }
      ]
    },
    {
      "cell_type": "code",
      "source": [
        "# Save results to CSV\n",
        "csv_path = \"llm_outputs.csv\"\n",
        "with open(csv_path, \"w\", newline=\"\", encoding=\"utf-8\") as f:\n",
        "    writer = csv.DictWriter(f, fieldnames=results[0].keys())\n",
        "    writer.writeheader()\n",
        "    writer.writerows(results)\n",
        "\n",
        "print(f\"✅ Results saved to: {csv_path}\")\n"
      ],
      "metadata": {
        "colab": {
          "base_uri": "https://localhost:8080/"
        },
        "id": "HIo5JXXvOStk",
        "outputId": "cd18dcd6-85e8-424f-933a-cb2f193be847"
      },
      "execution_count": 7,
      "outputs": [
        {
          "output_type": "stream",
          "name": "stdout",
          "text": [
            "✅ Results saved to: llm_outputs.csv\n"
          ]
        }
      ]
    }
  ]
}