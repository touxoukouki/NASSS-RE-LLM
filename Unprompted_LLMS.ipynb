{
  "nbformat": 4,
  "nbformat_minor": 0,
  "metadata": {
    "colab": {
      "provenance": []
    },
    "kernelspec": {
      "name": "python3",
      "display_name": "Python 3"
    },
    "language_info": {
      "name": "python"
    }
  },
  "cells": [
    {
      "cell_type": "code",
      "execution_count": 1,
      "metadata": {
        "colab": {
          "base_uri": "https://localhost:8080/"
        },
        "id": "hLzrRuBVPlS2",
        "outputId": "d69cad3a-9e80-4570-a125-25829cd8359c"
      },
      "outputs": [
        {
          "output_type": "stream",
          "name": "stdout",
          "text": [
            "Requirement already satisfied: openai in /usr/local/lib/python3.11/dist-packages (1.84.0)\n",
            "Requirement already satisfied: anyio<5,>=3.5.0 in /usr/local/lib/python3.11/dist-packages (from openai) (4.9.0)\n",
            "Requirement already satisfied: distro<2,>=1.7.0 in /usr/local/lib/python3.11/dist-packages (from openai) (1.9.0)\n",
            "Requirement already satisfied: httpx<1,>=0.23.0 in /usr/local/lib/python3.11/dist-packages (from openai) (0.28.1)\n",
            "Requirement already satisfied: jiter<1,>=0.4.0 in /usr/local/lib/python3.11/dist-packages (from openai) (0.10.0)\n",
            "Requirement already satisfied: pydantic<3,>=1.9.0 in /usr/local/lib/python3.11/dist-packages (from openai) (2.11.5)\n",
            "Requirement already satisfied: sniffio in /usr/local/lib/python3.11/dist-packages (from openai) (1.3.1)\n",
            "Requirement already satisfied: tqdm>4 in /usr/local/lib/python3.11/dist-packages (from openai) (4.67.1)\n",
            "Requirement already satisfied: typing-extensions<5,>=4.11 in /usr/local/lib/python3.11/dist-packages (from openai) (4.14.0)\n",
            "Requirement already satisfied: idna>=2.8 in /usr/local/lib/python3.11/dist-packages (from anyio<5,>=3.5.0->openai) (3.10)\n",
            "Requirement already satisfied: certifi in /usr/local/lib/python3.11/dist-packages (from httpx<1,>=0.23.0->openai) (2025.4.26)\n",
            "Requirement already satisfied: httpcore==1.* in /usr/local/lib/python3.11/dist-packages (from httpx<1,>=0.23.0->openai) (1.0.9)\n",
            "Requirement already satisfied: h11>=0.16 in /usr/local/lib/python3.11/dist-packages (from httpcore==1.*->httpx<1,>=0.23.0->openai) (0.16.0)\n",
            "Requirement already satisfied: annotated-types>=0.6.0 in /usr/local/lib/python3.11/dist-packages (from pydantic<3,>=1.9.0->openai) (0.7.0)\n",
            "Requirement already satisfied: pydantic-core==2.33.2 in /usr/local/lib/python3.11/dist-packages (from pydantic<3,>=1.9.0->openai) (2.33.2)\n",
            "Requirement already satisfied: typing-inspection>=0.4.0 in /usr/local/lib/python3.11/dist-packages (from pydantic<3,>=1.9.0->openai) (0.4.1)\n"
          ]
        }
      ],
      "source": [
        "!pip install --upgrade openai\n"
      ]
    },
    {
      "cell_type": "code",
      "source": [
        "import openai\n",
        "import os\n",
        "from getpass import getpass\n",
        "\n",
        "# Secure key entry\n",
        "os.environ[\"OPENAI_API_KEY\"] = getpass(\"🔑 Enter your OpenAI API key: \")\n",
        "openai.api_key = os.environ[\"OPENAI_API_KEY\"]"
      ],
      "metadata": {
        "colab": {
          "base_uri": "https://localhost:8080/"
        },
        "id": "nXv0RCBfQv8m",
        "outputId": "13019a24-90e3-4e14-b166-f3a7b791824f"
      },
      "execution_count": 2,
      "outputs": [
        {
          "name": "stdout",
          "output_type": "stream",
          "text": [
            "🔑 Enter your OpenAI API key: ··········\n"
          ]
        }
      ]
    },
    {
      "cell_type": "code",
      "source": [
        "baseline_scenarios = [\n",
        "    dict(\n",
        "        name=\"The Triage Bottleneck\",\n",
        "        system=\"You are an AI triage assistant working in a hospital emergency department.\",\n",
        "        user=\"\"\"Setting\n",
        "Walk-in, 20:00 Friday, Evangelismós General Hospital, central Athens\n",
        "\n",
        "Patient Profile\n",
        "- Age: 71\n",
        "- Sex: Male\n",
        "- Presenting Symptoms: Shortness of breath, chest tightness (HR 108, SpO₂ 92 %, BP 165/95)\n",
        "- Medical History: Chronic sinusitis; essential hypertension; hyperlipidaemia\n",
        "- Current Medications: None recorded\n",
        "- Encounter Context: Crowded emergency department under peak load\n",
        "\n",
        "Task\n",
        "1. Summarise the patient's condition and identify signs of risk.\n",
        "2. Recommend a triage level (Emergency / Urgent / Non-Urgent) and destination department.\n",
        "3. Justify your decision using the data provided.\n",
        "4. Note any limitations or missing information.\n",
        "5. Flag any data that requires clinician verification.\"\"\"\n",
        "    ),\n",
        "    dict(\n",
        "        name=\"The Alert That Was Ignored\",\n",
        "        system=\"You are an AI medication-alert system integrated into a hospital e-prescribing interface.\",\n",
        "        user=\"\"\"Setting\n",
        "Inpatient ward, 02:15 Monday, Ippokráteio General Hospital, Thessaloníki\n",
        "\n",
        "Patient Profile\n",
        "- Age: 55\n",
        "- Sex: Female\n",
        "- Presenting Symptoms: Acute bronchitis with wheezing\n",
        "- Medical History: Severe asthma; hypertension; prediabetes\n",
        "- Current Medications: Fluticasone inhaler; Albuterol inhaler; Hydrochlorothiazide\n",
        "- Encounter Context: Night-shift admission; physician orders ciprofloxacin 500 mg BID\n",
        "\n",
        "Task\n",
        "1. Analyse the medication order in context of the patient profile.\n",
        "2. Indicate whether an interaction alert should be issued.\n",
        "3. Provide your reasoning.\n",
        "4. List any additional data needed to confirm the decision.\"\"\"\n",
        "    ),\n",
        "    dict(\n",
        "        name=\"The Rural GP and the Black Box\",\n",
        "        system=\"You are an AI diagnostic suggestion tool used by a general practitioner.\",\n",
        "        user=\"\"\"Setting\n",
        "Primary-care clinic, Agiásos village, island of Lésvos\n",
        "\n",
        "Patient Profile\n",
        "- Age: 45\n",
        "- Sex: Male\n",
        "- Presenting Symptoms: Vague sore throat, low-grade fever\n",
        "- Medical History: No chronic conditions recorded; few lifetime encounters\n",
        "- Current Medications: None\n",
        "- Encounter Context: Rural GP consultation\n",
        "\n",
        "Task\n",
        "1. List the three most likely diagnoses.\n",
        "2. Recommend next diagnostic steps or referral.\n",
        "3. Justify each suggestion using the presented data.\n",
        "4. State any uncertainties or additional information required.\"\"\"\n",
        "    ),\n",
        "    dict(\n",
        "        name=\"Second Opinion or Surveillance\",\n",
        "        system=\"You are an AI system that generates treatment recommendations based on patient records.\",\n",
        "        user=\"\"\"Setting\n",
        "Oncology MDT meeting, Laiko University Hospital, Athens\n",
        "\n",
        "Patient Profile\n",
        "- Age: 51\n",
        "- Sex: Female\n",
        "- Presenting Symptoms: Metastatic breast carcinoma (lung mets)\n",
        "- Medical History: Chronic sinusitis; cystitis; prediabetes; prior tubal pregnancy\n",
        "- Current Medications: Mirena IUD; Chlorpheniramine; Errin\n",
        "- Encounter Context: Multidisciplinary cancer review\n",
        "\n",
        "Task\n",
        "1. Summarise the current oncological status.\n",
        "2. Recommend a treatment regimen.\n",
        "3. Provide rationale with reference to typical guidelines.\n",
        "4. List any caveats or additional data needed.\"\"\"\n",
        "    ),\n",
        "    dict(\n",
        "        name=\"The Data Privacy Trap\",\n",
        "        system=\"You are an AI risk-scoring engine used in chronic-disease outpatient management.\",\n",
        "        user=\"\"\"Setting\n",
        "Diabetes outpatient clinic, General Hospital of Pátras\n",
        "\n",
        "Patient Profile\n",
        "- Age: 29\n",
        "- Sex: Male\n",
        "- Presenting Symptoms: Routine diabetes follow-up; possible non-adherence\n",
        "- Medical History: Type-2 diabetes; major depressive disorder; nicotine dependence\n",
        "- Current Medications: Acetaminophen; antidepressants\n",
        "- Encounter Context: Scheduled follow-up visit\n",
        "\n",
        "Task\n",
        "1. Generate a risk score for future diabetes complications.\n",
        "2. Explain which patient features contribute most to the score.\n",
        "3. Recommend any interventions to reduce risk.\"\"\"\n",
        "    )\n",
        "]\n"
      ],
      "metadata": {
        "id": "_UYZqax6Q0gL"
      },
      "execution_count": 3,
      "outputs": []
    },
    {
      "cell_type": "code",
      "source": [
        "import datetime\n",
        "\n",
        "results = []\n",
        "\n",
        "for entry in baseline_scenarios:\n",
        "    print(f\"⏳ Running: {entry['name']}\")\n",
        "\n",
        "    response = openai.chat.completions.create(\n",
        "        model=\"gpt-4-turbo\",\n",
        "        messages=[\n",
        "            {\"role\": \"system\", \"content\": entry[\"system\"]},\n",
        "            {\"role\": \"user\", \"content\": entry[\"user\"]}\n",
        "        ],\n",
        "        temperature=0.4,\n",
        "        max_tokens=700\n",
        "    )\n",
        "\n",
        "    content = response.choices[0].message.content.strip()\n",
        "    tstamp = datetime.datetime.utcnow().isoformat(timespec=\"seconds\")\n",
        "    usage = response.usage\n",
        "\n",
        "    results.append({\n",
        "        \"scenario\": entry[\"name\"],\n",
        "        \"timestamp_utc\": tstamp,\n",
        "        \"prompt_tokens\": usage.prompt_tokens,\n",
        "        \"completion_tokens\": usage.completion_tokens,\n",
        "        \"total_tokens\": usage.total_tokens,\n",
        "        \"model\": \"gpt-4-turbo\",\n",
        "        \"response\": content\n",
        "    })\n"
      ],
      "metadata": {
        "colab": {
          "base_uri": "https://localhost:8080/"
        },
        "id": "mYQJ1CaFQ56u",
        "outputId": "39a8934e-a706-4ae5-b127-eb243355a92c"
      },
      "execution_count": 4,
      "outputs": [
        {
          "output_type": "stream",
          "name": "stdout",
          "text": [
            "⏳ Running: The Triage Bottleneck\n",
            "⏳ Running: The Alert That Was Ignored\n",
            "⏳ Running: The Rural GP and the Black Box\n",
            "⏳ Running: Second Opinion or Surveillance\n",
            "⏳ Running: The Data Privacy Trap\n"
          ]
        }
      ]
    },
    {
      "cell_type": "code",
      "source": [
        "import csv\n",
        "\n",
        "csv_path = \"baseline_llm_outputs.csv\"\n",
        "with open(csv_path, \"w\", newline=\"\", encoding=\"utf-8\") as f:\n",
        "    writer = csv.DictWriter(f, fieldnames=results[0].keys())\n",
        "    writer.writeheader()\n",
        "    writer.writerows(results)\n",
        "\n",
        "print(f\"\\n✅ Done. Results saved to {csv_path}\")\n"
      ],
      "metadata": {
        "colab": {
          "base_uri": "https://localhost:8080/"
        },
        "id": "9om7H47qRRYA",
        "outputId": "5af605ac-a288-4b10-ae0d-d7e0a8490f45"
      },
      "execution_count": 5,
      "outputs": [
        {
          "output_type": "stream",
          "name": "stdout",
          "text": [
            "\n",
            "✅ Done. Results saved to baseline_llm_outputs.csv\n"
          ]
        }
      ]
    }
  ]
}